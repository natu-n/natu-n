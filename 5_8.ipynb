{
  "nbformat": 4,
  "nbformat_minor": 0,
  "metadata": {
    "colab": {
      "name": "5-8.ipynb",
      "private_outputs": true,
      "provenance": [],
      "collapsed_sections": [],
      "authorship_tag": "ABX9TyPsS6SzY18Pge728sz+MUHu",
      "include_colab_link": true
    },
    "kernelspec": {
      "name": "python3",
      "display_name": "Python 3"
    },
    "language_info": {
      "name": "python"
    }
  },
  "cells": [
    {
      "cell_type": "markdown",
      "metadata": {
        "id": "view-in-github",
        "colab_type": "text"
      },
      "source": [
        "<a href=\"https://colab.research.google.com/github/natu-n/natu-n/blob/main/5_8.ipynb\" target=\"_parent\"><img src=\"https://colab.research.google.com/assets/colab-badge.svg\" alt=\"Open In Colab\"/></a>"
      ]
    },
    {
      "cell_type": "code",
      "execution_count": null,
      "metadata": {
        "id": "nsY7I55P_-x5"
      },
      "outputs": [],
      "source": [
        "!python -V\n",
        "# Python 3.7.13 (5/8)"
      ]
    },
    {
      "cell_type": "code",
      "source": [
        "import pandas as pd\n",
        "import numpy as np\n",
        "import matplotlib.pyplot as plt\n",
        "import datetime as dt\n",
        "from datetime import datetime\n",
        "from datetime import timedelta\n",
        "\n",
        "from google.colab import auth\n",
        "auth.authenticate_user()\n",
        "\n",
        "import gspread\n",
        "from google.auth import default\n",
        "creds, _ = default()\n",
        "\n",
        "gc = gspread.authorize(creds)\n",
        "ss_url = \"https://docs.google.com/spreadsheets/d/1-Qdl4HN7XDUEczbAf-6OBqQ5hxwmehP7BoEr55X1Wvw/edit#gid=156673541\"\n",
        "\n",
        "workbook = gc.open_by_url(ss_url)\n",
        "worksheet = workbook.get_worksheet(0)\n"
      ],
      "metadata": {
        "id": "B2NjP0JLBw5-"
      },
      "execution_count": null,
      "outputs": []
    },
    {
      "cell_type": "code",
      "source": [
        "\n",
        "## The xy format accepts [{ x: category/date, y: [min, q1, median, q3, max] }].\n",
        "\n",
        "df3 = pd.DataFrame(worksheet.get_all_values())\n",
        "df3.columns = list(df3.loc[0, :])\n",
        "df3.drop(0, inplace=True)\n",
        "df3['date'] = pd.to_datetime(df3['date'])\n",
        "df3.set_index('date', inplace=True)\n",
        "\n",
        "df3['systolic'] = df3['systolic'].astype('int')\n",
        "df3['diastolic'] = df3['diastolic'].astype('int')\n",
        "\n",
        "start = datetime.strptime('2017-10-01', '%Y-%m-%d')\n",
        "end   = datetime.strptime('2017-10-18', '%Y-%m-%d')\n",
        "days_num = (end - start).days +1\n",
        "\n",
        "datelist = [start + timedelta(days=x) for x in range(days_num)]\n",
        "\n",
        "df2 = pd.DataFrame({'date': datelist ,'systolic': np.NaN,'diastolic': np.NaN})\n",
        "df2['date'] = pd.to_datetime(df2['date'])\n",
        "df2.set_index('date', inplace=True)\n",
        "\n",
        "df = df2.append(df3, ignore_index=False)\n",
        "\n",
        "\n",
        "# The xy format accepts [{ x: category/date, y: [min, q1, median, q3, max] }].\n",
        "\n",
        "df_systolic = df.drop(columns='diastolic')\n",
        "df_diastolic = df.drop(columns='systolic')\n",
        "df_d = []\n"
      ],
      "metadata": {
        "id": "cr7rlnehEDQu"
      },
      "execution_count": null,
      "outputs": []
    },
    {
      "cell_type": "code",
      "source": [
        "## resample('M')は常に月末\n",
        "## Min ##\n",
        "df_w = df_diastolic.resample('M').min()\n",
        "df_w.reset_index(inplace = True)\n",
        "df_d.append(df_w.rename(columns={'diastolic': 'Min'}))\n",
        "\n",
        "## Q! ##\n",
        "df_w = df_diastolic.resample('M').quantile([0.25])\n",
        "df_w.reset_index(inplace = True)\n",
        "df_w = df_w.drop(columns='level_1')\n",
        "df_w['diastolic'] = df_w['diastolic'].astype('float')\n",
        "df_d.append(df_w.rename(columns={'diastolic': 'Q1'}))\n",
        "\n",
        "## median ##\n",
        "df_w = df_diastolic.resample('M').mean()\n",
        "df_w.reset_index(inplace = True)\n",
        "df_d.append(df_w.rename(columns={'diastolic': 'Mean'}))\n",
        "\n",
        "## Q3 ##\n",
        "df_w = df_diastolic.resample('M').quantile([0.75])\n",
        "df_w.reset_index(inplace = True)\n",
        "df_w = df_w.drop(columns='level_1')\n",
        "df_w['diastolic'] = df_w['diastolic'].astype('float')\n",
        "df_d.append(df_w.rename(columns={'diastolic': 'Q3'}))\n",
        "\n",
        "## Max ##\n",
        "df_w = df_diastolic.resample('M').max()\n",
        "df_w.reset_index(inplace = True)\n",
        "df_d.append(df_w.rename(columns={'diastolic': 'Max'}))\n"
      ],
      "metadata": {
        "id": "-MyQAadgRnSq"
      },
      "execution_count": null,
      "outputs": []
    },
    {
      "cell_type": "code",
      "source": [
        "## df_sheet_diastolicのガワの作成\n",
        "df_sheet_diastolic = df_d[0]\n",
        "df_sheet_diastolic = df_sheet_diastolic.drop(columns='Min')\n",
        "\n",
        "## 纏める\n",
        "for i in range(len(df_d)):\n",
        "  df_sheet_diastolic = pd.merge(df_sheet_diastolic, df_d[i])\n",
        "\n",
        "df_sheet_diastolic.head(5)"
      ],
      "metadata": {
        "id": "2i11Q_o1pTZl"
      },
      "execution_count": null,
      "outputs": []
    },
    {
      "cell_type": "code",
      "source": [
        "## iqrを求める ##\n",
        "def comp_iqr(df_sheet_diastolic):\n",
        "  result = df_sheet_diastolic['Q3'] - df_sheet_diastolic['Q1']\n",
        "  return result\n",
        "\n",
        "df_sheet_diastolic['Iqr'] = df_sheet_diastolic.apply(comp_iqr, axis=1)\n",
        "df_sheet_diastolic.head(5)"
      ],
      "metadata": {
        "id": "BkyUyyrteSZ1"
      },
      "execution_count": null,
      "outputs": []
    },
    {
      "cell_type": "markdown",
      "source": [
        "+ [X] TimestampをMMM-YYYYに変換する\n",
        "1. [x] resample('M')でQ1とQ3を求める\n",
        "1. [x] Iqrを求める\n",
        "\n",
        "|index|date|Min|Q1|Mean|Q3|Max|Iqr|\n",
        "|---|---|---|---|---|---|---|---|\n",
        "|0|2017-10-31 00:00:00|79|90\\.0|91\\.6923076923077|94\\.0|100|4\\.0|\n",
        "|1|2017-11-30 00:00:00|79|88\\.0|92\\.5|94\\.75|107|6\\.75|\n",
        "|2|2017-12-31 00:00:00|83|89\\.0|91\\.7741935483871|93\\.5|103|4\\.5|\n",
        "|3|2018-01-31 00:00:00|84|92\\.0|95\\.54838709677419|100\\.0|110|8\\.0|\n",
        "|4|2018-02-28 00:00:00|72|97\\.0|101\\.10714285714286|104\\.25|119|7\\.25|\n",
        "\n",
        "+ [ ] 外れ値\n",
        "+ [ ] resample('M')のキャンセル\n",
        "```\n",
        "df_systolic.resample(\"M\").min().index\n",
        "DatetimeIndex(['2017-10-31', '2017-11-30', '2017-12-31', '2018-01-31',\n",
        "df_systolic.resample(\"M\",closed= \"left\", label=\"left\").min().index\n",
        "DatetimeIndex(['2017-09-30', '2017-10-31', '2017-11-30', '2017-12-31',ss\n",
        "```\n",
        "+ 2017-10-19\n",
        "+ [x]2017-10-01 - 2017-10-18までのnp.NaNデータを混ぜ込むことは出来た\n",
        "+ [x]必要な項目の取得方法はわかった\n"
      ],
      "metadata": {
        "id": "s72SS_ltAa4b"
      }
    },
    {
      "cell_type": "code",
      "source": [
        "stDate = '2018-11-01'\n",
        "edDate = '2018-11-30'\n",
        "df_systolic.loc[ stDate : edDate ]  # 直観的でよい\n",
        "#df_systolic.query(\"date >= '2018-11-1' and date <='2018-11-30'\")\n",
        "#df_systolic[df_systolic[\"date\"].isin(pd.date_range('2018-1-1', '2018-1130'))] X\n",
        "# df_systolic.loc[df_systolic[\"date\"].between('2018-11-1', '2018-11-30')] X\n"
      ],
      "metadata": {
        "id": "nq6ZnOHYo4R6"
      },
      "execution_count": null,
      "outputs": []
    }
  ]
}